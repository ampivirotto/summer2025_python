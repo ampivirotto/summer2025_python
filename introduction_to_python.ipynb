{
 "cells": [
  {
   "cell_type": "markdown",
   "id": "3d1c8654",
   "metadata": {},
   "source": [
    "# Introduction to Python\n",
    "\n",
    "\n",
    "Python is a high-level, interpreted programming language known for its simplicity and readability. It is widely used in various domains, including web development, data analysis, text analysis, artificial intelligence, scientific computing, and more. Python's versatility and extensive library ecosystem make it a popular choice for both beginners and experienced developers.\n",
    "\n",
    "\n",
    "## Example: Hello World in Python\n",
    "```python\n",
    "print(\"Hello, World!\")\n",
    "```\n",
    "\n",
    "## Applications of Python\n",
    "| **Category** | **Libraries/Tools** | **Example Use Case**|\n",
    "| -------------|---------------------|---------------------|\n",
    "| Web Development | Django, Flask | Build a blog, dashboard, or interactive visualization|\n",
    "| Data Science | pandas, NumPy, Matplotlib | Analyze, clean, and visualize quanitative or qualitative data|\n",
    "| Automation | os, shutil, sched | Rename a batch of files |\n",
    "| Text Analyis | spaCy, NLTK | Sentiment analysis on reviews |\n",
    "| Mapping | GeoPandas, Folium, geopy | Plot locations on an interactive map |\n",
    "| Data Management | pandas, `csv`, `xlm`, `json` | Clean and standardize metadata for a digital collection |\n",
    "| Webscraping | BeautifulSoup, Scrapy | Collect daily weather data |\n",
    "| Machine Learning | scikit-learn, TensorFlow | Classify emails as spam|\n",
    "| Data Processing/Cleaning | pandas, regex, `csv` | Clean historical census data for analysis |\n",
    "| Education |  Jupyter | Provide introductory material in an easy format |\n"
   ]
  },
  {
   "cell_type": "markdown",
   "id": "86e8b40c",
   "metadata": {},
   "source": [
    "## Libraries \n",
    "\n",
    "Libraries are collections of code, that you can essentially \"check-out\" to use. Once you import the library, you call different modules or functions within that library to perform specific tasks. \n",
    "\n",
    "<img src=\"img/python-library.jpg\" alt=\"Python Library Example\" width=\"600\"/>"
   ]
  },
  {
   "cell_type": "code",
   "execution_count": null,
   "id": "4224bfc5",
   "metadata": {},
   "outputs": [],
   "source": [
    "## Here we're going to import a couple of libraries that we will use in our codes. \n",
    "## Notice that we are using the \"as\" keyword to give aliases to the libraries - this is a common practice to make the code cleaner and easier to read.\n",
    "import pandas as pd\n",
    "import numpy as np\n",
    "import matplotlib.pyplot as plt"
   ]
  },
  {
   "cell_type": "markdown",
   "id": "17657923",
   "metadata": {},
   "source": [
    "## Data Types\n",
    "\n",
    "Data types are the kinds of values you can use in Python. Every value in Python has a type and unlike other many other languages you do not have to explicitly set these types. However because of that you have to be diligent to keep track of the types as you go. \n",
    "\n",
    "Each type will have it's own set of functions and expressions that can performed. \n",
    "\n",
    "### Basic Data Types\n",
    "| Type | Example | Description |\n",
    "|------|---------|-------------|\n",
    "| `int`| 42, -2, 3244235 | Whole numbers (positive or negative) |\n",
    "| `float` | 3.193727, 0.55, -2423.34243 | Decimal numbers |\n",
    "| `str` | \"hello\", \"hello, world\", \"h\" | Text (string of characters) | \n",
    "| `bool` | True, False | Boolean values (logic, conditionals) | "
   ]
  },
  {
   "cell_type": "markdown",
   "id": "d9e8b40c",
   "metadata": {},
   "source": [
    "Example of discrete and continuous observations. \n",
    "\n",
    "Discrete:\n",
    "<img src=\"img/penguin_clutch.jpg\" alt=\"Penguin with hatchlings\" width=\"300\"/> \n",
    "\n",
    "Continuous:\n",
    "<img src=\"img/penguin_bill.png\" alt=\"Penguin Bill Measurements\" width=\"300\"/>"
   ]
  },
  {
   "cell_type": "code",
   "execution_count": null,
   "id": "8c0fe058",
   "metadata": {},
   "outputs": [],
   "source": [
    "## Now let's go through some examples of these data types \n",
    "\n",
    "## number of penguins - ints\n"
   ]
  },
  {
   "cell_type": "code",
   "execution_count": null,
   "id": "6fa636d6",
   "metadata": {},
   "outputs": [],
   "source": [
    "##  bill sizes and averages - floats \n"
   ]
  },
  {
   "cell_type": "markdown",
   "id": "fae18aed",
   "metadata": {},
   "source": [
    "We can also do other types of mathematics: \n",
    "\n",
    "| Operation | Symbol | Example | Output |\n",
    "|------|---------|-------------|--------|\n",
    "| Addition | `+` | `1 + 1`| `2`|\n",
    "| Subtraction |  `-` | `2 - 1` | `1`|\n",
    "| Multiplication | `*` | `2 * 2` | `4`|\n",
    "| Division | `/` | ` 3 / 1 ` | `3`|\n",
    "| Division (floor) | `//` | `10 // 3`| `3`|\n",
    "| Remainder | `%` | `10 % 3` | `1`|\n",
    "| Exponent | `**` | ` 3 ** 2` | `9`| \n"
   ]
  },
  {
   "cell_type": "markdown",
   "id": "f1cd163e",
   "metadata": {},
   "source": [
    "**Try it Yourself**: Let’s combine what we know about variable names, expressions, and int/floats to calculate the adjusted body mass of a penguin after a simulated feeding period. Suppose you observe a penguin that weighs 4,200 grams. Based on typical feeding patterns, you expect the penguin to gain 8% of its body mass over a week. After gaining weight, the penguin is tagged, and the tagging equipment adds an additional 150 grams.\n",
    "\n",
    "First, calculate the weight gain. Then add the equipment weight to get the total adjusted body mass."
   ]
  },
  {
   "cell_type": "code",
   "execution_count": null,
   "id": "10a2942a",
   "metadata": {},
   "outputs": [],
   "source": [
    "penguin_weight = ... \n",
    "weight_gain = ...\n",
    "equipment_weight = ...\n",
    "adjusted_body_mass = ...\n",
    "print(adjusted_body_mass, weight_gain)"
   ]
  },
  {
   "cell_type": "code",
   "execution_count": null,
   "id": "6812df59",
   "metadata": {},
   "outputs": [],
   "source": [
    "num_penguins = ...  # number of penguins in the colony"
   ]
  },
  {
   "cell_type": "code",
   "execution_count": null,
   "id": "d8378ede",
   "metadata": {},
   "outputs": [],
   "source": [
    "## We can also convert numbers to strings\n",
    "num_penguins_str = ...\n",
    "print(num_penguins_str, type(num_penguins_str))\n",
    "print(num_penguins, type(num_penguins))"
   ]
  },
  {
   "cell_type": "code",
   "execution_count": null,
   "id": "89fbbfec",
   "metadata": {},
   "outputs": [],
   "source": [
    "## Now let's look more at strings "
   ]
  },
  {
   "cell_type": "code",
   "execution_count": null,
   "id": "2ad86049",
   "metadata": {},
   "outputs": [],
   "source": [
    "## we can do a couple different things with strings, like finding their length\n",
    "species = ...\n",
    "species_length = ...\n",
    "print(species_length)"
   ]
  },
  {
   "cell_type": "code",
   "execution_count": null,
   "id": "81a93079",
   "metadata": {},
   "outputs": [],
   "source": [
    "## or we can add strings together\n",
    "region = \"Antarctica\" \n",
    "island = ...\n",
    "full_location = region + \" - \" + island\n",
    "full_title = \"The \" + species + \" penguin from \" + full_location\n",
    "print(full_title)\n"
   ]
  },
  {
   "cell_type": "code",
   "execution_count": null,
   "id": "e466aa6c",
   "metadata": {},
   "outputs": [],
   "source": [
    "## we can also strip characters from strings, select specific words or characters, and convert them to uppercase or lowercase\n",
    "species = \"  Gentoo Penguin  \"\n",
    "stripped_species = ...\n",
    "print(stripped_species)"
   ]
  },
  {
   "cell_type": "code",
   "execution_count": null,
   "id": "d5b20d6e",
   "metadata": {},
   "outputs": [],
   "source": [
    "last_word = ...\n",
    "print(last_word)\n"
   ]
  },
  {
   "cell_type": "code",
   "execution_count": null,
   "id": "0448855c",
   "metadata": {},
   "outputs": [],
   "source": [
    "uppercase_location = ...\n",
    "print(uppercase_location)\n",
    "\n",
    "lowercase_location = ...\n",
    "print(lowercase_location)"
   ]
  },
  {
   "cell_type": "markdown",
   "id": "4d018b50",
   "metadata": {},
   "source": [
    "### Collection Data Types\n",
    "| Type | Example | Description |\n",
    "|------|---------|-------------|\n",
    "| `list`| `[1, 2, 3]` or `[99, 'hello', False]` | Ordered, changeable sequence |\n",
    "| `dict` | `{\"key\":\"value\"}` or `{\"Ada\":['Librarian', 42, \"Carpenter\"]}` | Key-value pairs |\n",
    "| `tuple` | `(1, 2, 3, 3)` | Ordered, unchangeable sequence | \n",
    "| `set` | `set(1, 2, 3)` | Unordered collection of unique values | "
   ]
  },
  {
   "cell_type": "code",
   "execution_count": null,
   "id": "dbfa6749",
   "metadata": {},
   "outputs": [],
   "source": [
    "## Now let's look at lists, which are a way to store multiple items in a single variable\n",
    "islands = [\"Torgersen\", \n",
    "           \"Biscoe\", \n",
    "           \"Dream\", \n",
    "           \"Torgersen\", \n",
    "           \"Anvers\"]\n",
    "print(islands)\n",
    "print(type(islands))\n"
   ]
  },
  {
   "cell_type": "code",
   "execution_count": null,
   "id": "d8ebc265",
   "metadata": {},
   "outputs": [],
   "source": [
    "## we can select specific items from a list using their index (Python always starts counting at 0)\n",
    "first_island = ...\n",
    "print(first_island)\n"
   ]
  },
  {
   "cell_type": "code",
   "execution_count": null,
   "id": "f0d62250",
   "metadata": {},
   "outputs": [],
   "source": [
    "## an easy way to get the last item is to use a negative index\n",
    "last_island = ...\n",
    "print(last_island)\n"
   ]
  },
  {
   "cell_type": "code",
   "execution_count": null,
   "id": "0f77c11a",
   "metadata": {},
   "outputs": [],
   "source": [
    "## we can also add items to a list using append()\n",
    "...\n",
    "print(islands)\n"
   ]
  },
  {
   "cell_type": "code",
   "execution_count": null,
   "id": "87657ec9",
   "metadata": {},
   "outputs": [],
   "source": [
    "## or we can remove items using remove()\n",
    "...\n",
    "print(islands)\n"
   ]
  },
  {
   "cell_type": "code",
   "execution_count": null,
   "id": "f5e0bdc8",
   "metadata": {},
   "outputs": [],
   "source": [
    "## we can also sort lists\n",
    "...\n",
    "print(islands)"
   ]
  },
  {
   "cell_type": "code",
   "execution_count": null,
   "id": "04576db0",
   "metadata": {},
   "outputs": [],
   "source": [
    "## now let's look at dictionaries, which are a way to store key-value pairs\n",
    "\n",
    "penguin_info = {\n",
    "    \"id\": 1,\n",
    "    \"species\": \"Gentoo\",\n",
    "    \"island\": \"Biscoe\",\n",
    "    \"weight\": 4.5,\n",
    "    \"bill_length\": 0.2,\n",
    "    \"bill_depth\": 0.05\n",
    "    \n",
    "}\n",
    "...\n",
    "...\n",
    "\n"
   ]
  },
  {
   "cell_type": "code",
   "execution_count": null,
   "id": "2535d501",
   "metadata": {},
   "outputs": [],
   "source": [
    "## we can access specific values in a dictionary using their keys\n",
    "species = ...\n",
    "print(species)\n"
   ]
  },
  {
   "cell_type": "code",
   "execution_count": null,
   "id": "3e99144f",
   "metadata": {},
   "outputs": [],
   "source": [
    "## we can also add new key-value pairs to a dictionary\n",
    "...\n",
    "print(penguin_info)\n"
   ]
  },
  {
   "cell_type": "code",
   "execution_count": null,
   "id": "42fb23a6",
   "metadata": {},
   "outputs": [],
   "source": [
    "## or we can remove key-value pairs using the del keyword\n",
    "...\n",
    "print(penguin_info)"
   ]
  },
  {
   "cell_type": "code",
   "execution_count": null,
   "id": "6c972ae7",
   "metadata": {},
   "outputs": [],
   "source": [
    "## we can have dictionaries within dictionaries, which is useful for more complex data structures\n",
    "summer_population = {\n",
    "    1: {\n",
    "        \"id\": 1,\n",
    "        \"species\": \"Gentoo\",\n",
    "        \"island\": \"Biscoe\",\n",
    "        \"weight\": 4.5,\n",
    "        \"bill_length\": 0.2,\n",
    "        \"bill_depth\": 0.05\n",
    "    },\n",
    "    22: {\n",
    "        \"id\": 22,\n",
    "        \"species\": \"Adelie\",\n",
    "        \"island\": \"Torgersen\",\n",
    "        \"weight\": 3.8,\n",
    "        \"bill_length\": 0.18,\n",
    "        \"bill_depth\": 0.04\n",
    "    }\n",
    "}\n",
    "print(summer_population)\n"
   ]
  },
  {
   "cell_type": "code",
   "execution_count": null,
   "id": "2c3cad32",
   "metadata": {},
   "outputs": [],
   "source": [
    "## we can access specific books in the collection using their keys\n",
    "penguin_id = 22\n",
    "penguin_details = ...\n",
    "print(penguin_details)\n",
    "\n",
    "## we can also access specific values within the nested dictionary\n",
    "penguin_weight = ...\n",
    "print(penguin_weight)\n",
    "\n",
    "average_bill_length = ...\n",
    "print(average_bill_length)"
   ]
  },
  {
   "cell_type": "markdown",
   "id": "96a7f394",
   "metadata": {},
   "source": [
    "## Loops and Conditionals \n",
    "\n",
    "### Conditionals or Comparisons\n",
    "Sometimes we want to be able to compare different variables or expressions. This could be to find matching amounts/text or perhaps you want to identify when a specifc number rises above a certain threshold. We can do this through using comparison statements. \n",
    "\n",
    "Reminder:  Booleans - represent either True or False often in logic or conditional statements"
   ]
  },
  {
   "cell_type": "code",
   "execution_count": null,
   "id": "23c25d98",
   "metadata": {},
   "outputs": [],
   "source": [
    "## let's look at some examples of using conditional statements \n",
    "\n",
    "penguin_1_weight = summer_population[1][\"weight\"]\n",
    "penguin_22_weight = summer_population[22][\"weight\"]\n",
    "\n",
    "\n"
   ]
  },
  {
   "cell_type": "markdown",
   "id": "d2cc0d9e",
   "metadata": {},
   "source": [
    "### Methods of comparison \n",
    "\n",
    "| Comparison | Operator | \n",
    "|------|---------|\n",
    "| Less than | `<` |\n",
    "| Greater than | `>` | \n",
    "| Less than or equal to | `<=` | \n",
    "| Greater than or equal to | `>=` |\n",
    "| Equal | `==` |\n",
    "| Not equal | `!=` |"
   ]
  },
  {
   "cell_type": "code",
   "execution_count": null,
   "id": "a6f81965",
   "metadata": {},
   "outputs": [],
   "source": [
    "## We can combine if statements with conditional operators to help move through the code \n",
    "...\n",
    "\n"
   ]
  },
  {
   "cell_type": "code",
   "execution_count": null,
   "id": "93866991",
   "metadata": {},
   "outputs": [],
   "source": [
    "## we can also combine multiple conditions together using keywords like 'and', 'or', and 'not' \n",
    "if penguin_1_weight > 3.7 and penguin_22_weight > 3.7:\n",
    "    print(\"Both penguins are heavier than the average weight.\")\n",
    "else:\n",
    "    print(\"At least one penguin is not heavier than the average weight.\")"
   ]
  },
  {
   "cell_type": "markdown",
   "id": "51c2c232",
   "metadata": {},
   "source": [
    "### Loops (Automation)\n",
    "\n",
    "Sometimes we will want to repeat the exact same task again and again. In python, loops allow us to create this type of automations to repeat tasks efficiently. The most common types of loops are using *for* and *while*. A for loop is often used to iterate over a sequence such as a list executing the same code for each element in the list. A while loop continues to run as long as a specified condition remains true. "
   ]
  },
  {
   "cell_type": "code",
   "execution_count": null,
   "id": "afedd71f",
   "metadata": {},
   "outputs": [],
   "source": [
    "## The final piece is to look at loops which allows us to iterate over our collection data types\n",
    "\n",
    "## Let's start with a simple for loop to iterate over a list of islands\n",
    "..."
   ]
  },
  {
   "cell_type": "code",
   "execution_count": null,
   "id": "c43ae060",
   "metadata": {},
   "outputs": [],
   "source": [
    "## we can also use the range function to iterate over a list by the index values \n",
    "for i in range(len(islands)):\n",
    "    print(f\"Island {i + 1}: {islands[i]}\")\n"
   ]
  },
  {
   "cell_type": "code",
   "execution_count": null,
   "id": "254acf2e",
   "metadata": {},
   "outputs": [],
   "source": [
    "## now let's combine loops and conditional statements\n",
    "for ... in ...:\n",
    "    if ...:\n",
    "        print(f\"Penguin {details['id']} is larger than 3.5 kg and was found in {details['island']}\")"
   ]
  },
  {
   "cell_type": "markdown",
   "id": "8e7862bd",
   "metadata": {},
   "source": [
    "## Tables\n",
    "\n",
    "When working with data in Python, we often organize it in a table with rows and columns. The most powerful tool for working with tables is a library called `pandas` which makes it easy to load data from csv and Excel files, view and explore datasets, filter and clean data, calculate statistics, and prepare data for visualization. \n",
    "\n",
    "Tables are stored in an object called a DataFrame. "
   ]
  },
  {
   "cell_type": "code",
   "execution_count": null,
   "id": "b24e1c17",
   "metadata": {},
   "outputs": [],
   "source": [
    "!pip install palmerpenguins"
   ]
  },
  {
   "cell_type": "code",
   "execution_count": null,
   "id": "29a68e00",
   "metadata": {},
   "outputs": [],
   "source": [
    "## We're going to start by using Pandas to read in a CSV file that contains information about the Palmer Penguin dataset. \n",
    "from palmerpenguins import load_penguins\n",
    "penguins = load_penguins()  ## https://github.com/mcnakhaee/palmerpenguins \n",
    "penguins \n",
    "\n",
    "## normally we can load a CSV file using Pandas like this:\n",
    "# df = pd.read_csv('path_to_your_file.csv')\n"
   ]
  },
  {
   "cell_type": "code",
   "execution_count": null,
   "id": "9b20c116",
   "metadata": {},
   "outputs": [],
   "source": [
    "## You can double click on the table output above to hide or collapse it. \n",
    "## Notice how the table hides the middle rows and columns to make it easier to read?\n",
    "## Let's change that so we can see all the columns and rows in the DataFrame.\n",
    "with pd.option_context('display.max_columns', None, 'display.max_rows', None):\n",
    "    display(penguins)"
   ]
  },
  {
   "cell_type": "code",
   "execution_count": null,
   "id": "31129a98",
   "metadata": {},
   "outputs": [],
   "source": [
    "## we can do some basic analyis on the dataset \n",
    "print(penguins.shape)  # Get the number of rows and columns in the DataFrame\n",
    "print(penguins.info())  # Get information about the DataFrame, including data types and non-null counts\n"
   ]
  },
  {
   "cell_type": "code",
   "execution_count": null,
   "id": "c0be95a4",
   "metadata": {},
   "outputs": [],
   "source": [
    "print(penguins.describe())  # Get summary statistics for numerical columns"
   ]
  },
  {
   "cell_type": "code",
   "execution_count": null,
   "id": "bcae4a8a",
   "metadata": {},
   "outputs": [],
   "source": [
    "penguins.columns"
   ]
  },
  {
   "cell_type": "code",
   "execution_count": null,
   "id": "5d8489f3",
   "metadata": {},
   "outputs": [],
   "source": [
    "## We can select specific columns from the DataFrame by using their names\n",
    "...\n",
    "\n",
    "## We can also select multiple columns by passing a list of column names\n",
    "penguins[['species', 'island', 'year']]\n",
    "\n"
   ]
  },
  {
   "cell_type": "code",
   "execution_count": null,
   "id": "9fbeb255",
   "metadata": {},
   "outputs": [],
   "source": [
    "## We can filter the DataFrame based on specific conditions\n",
    "filtered_df = penguins[...]  # Select rows where the body mass is greater than 3.5 kg\n",
    "print(filtered_df)"
   ]
  },
  {
   "cell_type": "code",
   "execution_count": null,
   "id": "549722c8",
   "metadata": {},
   "outputs": [],
   "source": [
    "## We can calculate statistics on specific columns\n",
    "average_bill_length = penguins['bill_length_mm'].mean()  # Calculate the average bill length\n",
    "print(average_bill_length)"
   ]
  },
  {
   "cell_type": "markdown",
   "id": "a57db62d",
   "metadata": {},
   "source": [
    "**Try It Yourself**: Select a column and try to find out some basic summary statistics such as the minimum, maximum, median, mean, and mode values. "
   ]
  },
  {
   "cell_type": "code",
   "execution_count": null,
   "id": "3468cab9",
   "metadata": {},
   "outputs": [],
   "source": []
  },
  {
   "cell_type": "markdown",
   "id": "987f4788",
   "metadata": {},
   "source": [
    "## Visualization\n",
    "\n",
    "Now let's think about how we might continue to explore this dataset using visualizations. We're going to be using a combination of pandas' built-in plotting functions and the matplotlib library. \n",
    "\n",
    "Matplotlib is one of the most powerful and widely used libraries for creating visualizations in Python. While other libraries such as seaborn and plotly offer stylish and interactive plots with less code, matplotlib gives you the ability to have fine-grained control over every aspect of a figure. \n"
   ]
  },
  {
   "cell_type": "code",
   "execution_count": null,
   "id": "672402ee",
   "metadata": {},
   "outputs": [],
   "source": [
    "## Example 1: Histograms - Used for showing the distribution of single numerical variable \n",
    "\n",
    "penguins.hist('bill_length_mm', bins=20, edgecolor='black')  ## here is where we actually create the histogram\n",
    "plt.xlabel('Bill length (in mm)')  ## here we label the x-axis\n",
    "plt.ylabel('Frequency')  ## here we label the y-axis\n",
    "plt.title('Distribution of Bill Lengths of Penguins observed in the Palmer Archipalego between 2007-2009')  ## here we give it a title "
   ]
  },
  {
   "cell_type": "markdown",
   "id": "8514f73c",
   "metadata": {},
   "source": [
    "Now let's look at a more complicated example. We have several columns that are categorical. We might want to look at the comparison between these columns such as the example below where we examine the difference in weights between different species. "
   ]
  },
  {
   "cell_type": "code",
   "execution_count": null,
   "id": "8a507146",
   "metadata": {},
   "outputs": [],
   "source": [
    "gentoo = penguins[penguins['species'] == 'Gentoo']\n",
    "chinstrap = penguins[penguins['species'] == 'Chinstrap']\n",
    "adelie = penguins[penguins['species'] == 'Adelie']\n",
    "\n",
    "\n",
    "plt.hist(gentoo['body_mass_g'], bins=20, edgecolor='black', alpha=0.5, label='Gentoo', color = 'red')\n",
    "plt.hist(chinstrap['body_mass_g'], bins=20, edgecolor='black', alpha=0.5, label='Chinstrap', color = 'blue')\n",
    "plt.hist(adelie['body_mass_g'], bins=20, edgecolor='black', alpha=0.5, label='Adelie', color = 'green')\n",
    "plt.legend()\n",
    "plt.xlabel('Body Mass (in grams)')\n",
    "plt.ylabel('Frequency')\n",
    "plt.title('Distribution of Body Masses of Different Penguin Species')\n",
    "plt.show()\n",
    "plt.clf()"
   ]
  },
  {
   "cell_type": "code",
   "execution_count": null,
   "id": "f34e2b5a",
   "metadata": {},
   "outputs": [],
   "source": [
    "## we can also do this using seaborn, which is a library built on top of matplotlib that makes it easier to create complex visualizations\n",
    "import seaborn as sns\n",
    "sns.histplot(data=penguins, x='body_mass_g', hue = 'species', bins=20, kde=True, color='blue', edgecolor='black')\n",
    "plt.xlabel('Body Mass (in grams)')\n",
    "plt.ylabel('Frequency')\n",
    "plt.title('Distribution of Body Masses of Different Penguin Species')\n",
    "plt.show()"
   ]
  },
  {
   "cell_type": "code",
   "execution_count": null,
   "id": "0be4f46d",
   "metadata": {},
   "outputs": [],
   "source": [
    "## Example 2: Scatter Plots - Used for showing the relationship between two numerical variables \n",
    "\n",
    "plt.scatter(penguins['bill_length_mm'], penguins['body_mass_g'], alpha=0.5, color='blue')\n",
    "plt.xlabel('Bill Length (in mm)')\n",
    "plt.ylabel('Body Mass (in grams)')\n",
    "plt.title('Bill Length vs Body Mass of Penguins')\n",
    "plt.show()  "
   ]
  },
  {
   "cell_type": "code",
   "execution_count": null,
   "id": "b94c37e9",
   "metadata": {},
   "outputs": [],
   "source": [
    "sns.scatterplot(data=penguins, x='bill_length_mm', y='body_mass_g', hue='island', alpha=0.5)\n",
    "plt.xlabel('Bill Length (in mm)')\n",
    "plt.ylabel('Body Mass (in grams)')\n",
    "plt.title('Bill Length vs Body Mass of Penguins')\n",
    "plt.show()  "
   ]
  },
  {
   "cell_type": "code",
   "execution_count": null,
   "id": "f5bc6165",
   "metadata": {},
   "outputs": [],
   "source": [
    "## Example 3: Line Plots - Used for showing trends over time or ordered categories\n",
    "\n",
    "plt.plot(penguins['year'], penguins['body_mass_g'], marker='o', linestyle='-', color='blue', alpha=0.5)\n",
    "plt.xlabel('Year')  \n",
    "plt.ylabel('Body Mass (in grams)')\n",
    "plt.title('Body Mass of Penguins Over Time')\n",
    "plt.show()"
   ]
  },
  {
   "cell_type": "code",
   "execution_count": null,
   "id": "a826b21b",
   "metadata": {},
   "outputs": [],
   "source": [
    "## we can see that this doesn't quite work as expected because the publication years are not sorted and are not unique\n",
    "## so let's try to fix that\n",
    "sorted_df = penguins.sort_values(by='year')  # Sort the DataFrame by publication year\n",
    "plt.plot(sorted_df['year'], sorted_df['body_mass_g'], marker='o', linestyle='-', color='blue', alpha=0.5)\n",
    "plt.show()"
   ]
  },
  {
   "cell_type": "code",
   "execution_count": null,
   "id": "397942d1",
   "metadata": {},
   "outputs": [],
   "source": [
    "## still not quite what we want so let's group the data by year and get an average\n",
    "grouped_df = penguins.groupby(['species', 'year'])['body_mass_g'].mean().reset_index()  # Group by species and year, then calculate the mean body mass\n",
    "\n",
    "sns.lineplot(data=grouped_df, x='year', y='body_mass_g', hue='species', marker='o', alpha=0.5)\n",
    "plt.xlabel('Year')\n",
    "plt.ylabel('Average Body Mass (in grams)')\n",
    "plt.title('Average Body Mass of Penguins by Species Over Time')\n",
    "plt.legend(title='Species')\n",
    "plt.show()"
   ]
  },
  {
   "cell_type": "code",
   "execution_count": null,
   "id": "d0dbe700",
   "metadata": {},
   "outputs": [],
   "source": [
    "## Example 4: Bar Plots - Used for comparing categorical data\n",
    "\n",
    "counts = penguins.groupby(['year', 'species', 'island']).size().reset_index(name='count')\n",
    "\n",
    "# Plot as a bar graph\n",
    "plt.figure(figsize=(10, 6))\n",
    "sns.barplot(data=counts, x='island', y='count', hue='species', ci=None)\n",
    "plt.title('Penguin Counts per Species by Island')\n",
    "plt.ylabel('Count')\n",
    "plt.xlabel('Island')\n",
    "plt.legend(title='Species')\n",
    "plt.show()"
   ]
  },
  {
   "cell_type": "markdown",
   "id": "796d0b22",
   "metadata": {},
   "source": [
    "**Try it Yourself**: Pick a column or a series of columns to explore. Try to visualize your selected data - is there any obstacles you encountered? Is the data in a form that you have to alter or manipulate or filter? "
   ]
  },
  {
   "cell_type": "code",
   "execution_count": null,
   "id": "2e7a6877",
   "metadata": {},
   "outputs": [],
   "source": []
  },
  {
   "cell_type": "markdown",
   "id": "a48708c4",
   "metadata": {},
   "source": [
    "## Application: Machine Learning\n",
    "\n",
    "Now let's put everything together to build a simple machine learning model. Machine learning is a way to teach computers to recognize patterns and make predictions based on data. This is kind of like giving them examples and asking them to guess the answer for new cases.\n",
    "\n",
    "We're going to use supervised learning, where we give the model both the input (penguin measurements) and the correct answer (the species). The model will learn from this and try to predict species for new penguins it hasn't seen before.\n",
    "\n",
    "Here are the basic steps:\n",
    "1. Load Data - We did this above using `palmerpenguins` \n",
    "2. Clean Data - We want to remove missing values. \n",
    "3. Choose features and labels - We want to identify what attributes we want to use to do the predicts and what are the correct labels. \n",
    "4. Split into traning and testing data - We split our dataset into what we will use to train and what we will use to evaluate (test).\n",
    "5. Train the model - Using the training data subset, the machine learning algorithm will look for patterns in the data. \n",
    "6. Evaluate the model - We can see how accurate the model is using the test set where we know the correct answers. \n",
    "7. Predict labels for new data - Using the trained model, we can predict the labels for new data. "
   ]
  },
  {
   "cell_type": "code",
   "execution_count": null,
   "id": "e083fa92",
   "metadata": {},
   "outputs": [],
   "source": [
    "from sklearn.model_selection import train_test_split\n",
    "from sklearn.ensemble import RandomForestClassifier\n",
    "from sklearn.metrics import accuracy_score, classification_report, confusion_matrix\n",
    "from sklearn.preprocessing import LabelEncoder"
   ]
  },
  {
   "cell_type": "markdown",
   "id": "bf946a3d",
   "metadata": {},
   "source": [
    "We've already loaded the dataset previously, but just a reminder our dataset of observational data about the penguins is stored in our variable `penguins`. "
   ]
  },
  {
   "cell_type": "code",
   "execution_count": null,
   "id": "614f13d7",
   "metadata": {},
   "outputs": [],
   "source": [
    "## Step 2 Clean the data\n",
    "penguins = penguins.dropna()\n",
    "\n",
    "penguins  ## how many rows do we have now?"
   ]
  },
  {
   "cell_type": "code",
   "execution_count": null,
   "id": "89792997",
   "metadata": {},
   "outputs": [],
   "source": [
    "## Step 3: Choose the features and labels\n",
    "features = ['bill_length_mm', 'bill_depth_mm', 'flipper_length_mm', 'body_mass_g']\n",
    "X = penguins[features]  # Features\n",
    "y = penguins['species']  # Labels\n",
    "\n",
    "X, y"
   ]
  },
  {
   "cell_type": "code",
   "execution_count": null,
   "id": "dc3ec2b9",
   "metadata": {},
   "outputs": [],
   "source": [
    "## Step 4: split into training and testing sets\n",
    "\n",
    "x_train, x_test, y_train, y_test = train_test_split(X, y, test_size=0.2, random_state=42)\n",
    "\n",
    "len(x_train), len(x_test), len(y_train), len(y_test)"
   ]
  },
  {
   "cell_type": "code",
   "execution_count": null,
   "id": "45fcea76",
   "metadata": {},
   "outputs": [],
   "source": [
    "0.2 * len(X)"
   ]
  },
  {
   "cell_type": "code",
   "execution_count": null,
   "id": "6f76fe6a",
   "metadata": {},
   "outputs": [],
   "source": [
    "## Step 5 Train the Model \n",
    "\n",
    "model = RandomForestClassifier()\n",
    "model.fit(x_train, y_train)  # Train the model using the training data\n",
    "\n"
   ]
  },
  {
   "cell_type": "markdown",
   "id": "872ef7dc",
   "metadata": {},
   "source": [
    "We can evaluate the model in a couple different ways:\n",
    "\n",
    "1. Accuracy - calculated as the number of correct predictions over the total predictions\n",
    "\n",
    "2. Classification Reports - Gives you information about precision, recall, and F1 score. Precision is how often the predicted value was actually that value, i.e. \"When the model says it's a Chinstrap, can I trust it?\". Recall is how many of the value did the model actually identify, i.e. \"Out of all the Chinstraps in the dataset, how many did the model catch?\".\n",
    "\n",
    "3. Confusion Matrix - Examines what a model got right and wrong for each category. "
   ]
  },
  {
   "cell_type": "code",
   "execution_count": null,
   "id": "5f9129a0",
   "metadata": {},
   "outputs": [],
   "source": [
    "## Step 6 Evaluate the Model\n",
    "\n",
    "y_pred = model.predict(x_test)  # Make predictions on the test set\n",
    "accuracy = accuracy_score(y_test, y_pred)  # Calculate accuracy\n",
    "print(f\"Accuracy: {accuracy:.2f}\")\n",
    "\n",
    "print(\"Classification Report:\")\n",
    "print(classification_report(y_test, y_pred))\n",
    "\n",
    "print(\"Confusion Matrix:\")\n",
    "conf_matrix = confusion_matrix(y_test, y_pred)\n",
    "import seaborn as sns\n",
    "sns.heatmap(conf_matrix, annot=True, fmt='d', cmap='Blues', xticklabels=model.classes_, yticklabels=model.classes_)\n",
    "plt.xlabel('Predicted')\n",
    "plt.ylabel('Actual')\n",
    "plt.title('Confusion Matrix')\n",
    "plt.show()\n",
    "\n"
   ]
  },
  {
   "cell_type": "code",
   "execution_count": null,
   "id": "950e4caa",
   "metadata": {},
   "outputs": [],
   "source": [
    "## Step 7 Predict New Data\n",
    "new_data = pd.DataFrame({\n",
    "    'bill_length_mm': [40, 45],\n",
    "    'bill_depth_mm': [15, 18],\n",
    "    'flipper_length_mm': [200, 210],\n",
    "    'body_mass_g': [5000, 5500]\n",
    "})\n",
    "\n",
    "new_predictions = model.predict(new_data)  # Predict the species for new data\n",
    "print(\"Predictions for new data:\")\n",
    "for i, pred in enumerate(new_predictions):\n",
    "    print(f\"Sample {i + 1}: {pred}\")\n",
    "    "
   ]
  },
  {
   "cell_type": "code",
   "execution_count": null,
   "id": "df5ea82e",
   "metadata": {},
   "outputs": [],
   "source": [
    "# Use just two features\n",
    "features = [\"bill_length_mm\", \"flipper_length_mm\"]\n",
    "X = penguins[features]\n",
    "y = penguins[\"species\"]\n",
    "\n",
    "# Encode species as numbers for plotting\n",
    "le = LabelEncoder()\n",
    "y_encoded = le.fit_transform(y)\n",
    "\n",
    "# Train/test split\n",
    "X_train, X_test, y_train, y_test = train_test_split(X, y_encoded, random_state=42)\n",
    "\n",
    "# Train the model\n",
    "model = RandomForestClassifier()\n",
    "model.fit(X_train, y_train)\n",
    "\n",
    "# Create meshgrid\n",
    "x_min, x_max = X[features[0]].min() - 1, X[features[0]].max() + 1\n",
    "y_min, y_max = X[features[1]].min() - 1, X[features[1]].max() + 1\n",
    "xx, yy = np.meshgrid(np.linspace(x_min, x_max, 300),\n",
    "                     np.linspace(y_min, y_max, 300))\n",
    "\n",
    "# Predict over the grid\n",
    "Z = model.predict(np.c_[xx.ravel(), yy.ravel()])\n",
    "Z = Z.reshape(xx.shape)\n",
    "\n",
    "# Plot decision boundary\n",
    "plt.figure(figsize=(10, 6))\n",
    "plt.contourf(xx, yy, Z, alpha=0.3, cmap=\"Pastel1\")\n",
    "\n",
    "# Plot original points, colored by species\n",
    "for class_index in np.unique(y_encoded):\n",
    "    label = le.inverse_transform([class_index])[0]\n",
    "    plt.scatter(X.loc[y_encoded == class_index, features[0]],\n",
    "                X.loc[y_encoded == class_index, features[1]],\n",
    "                label=label, edgecolor='k', s=40)\n",
    "\n",
    "plt.xlabel(\"Bill Length (mm)\")\n",
    "plt.ylabel(\"Flipper Length (mm)\")\n",
    "plt.title(\"Decision Boundaries for Penguin Species\")\n",
    "plt.legend()\n",
    "plt.show()\n"
   ]
  },
  {
   "cell_type": "markdown",
   "id": "b9f76ab5",
   "metadata": {},
   "source": [
    "### Congratulations you've finished up the introduction to python tutorial!  \n",
    "\n",
    "If you're interested in continuing to explore data science, visualizations, or machine learning here are a few follow-up challenges using the Palmer Penguins Datasets:\n",
    "\n",
    "1. Test whether bill length differs by island - Use a boxplot or group-by comparison. What function could help you compare averages?\n",
    "2. Try K-Means clustering - What if you didn’t know the species of each penguin? Use `KMeans` from `sklearn` to see if the model can find natural groupings based on the measurements.\n",
    "3. Visualize feature importance - Which measurements did your model think were most useful for predicting species? Use `.feature_importances_` from your Random Forest model to find out.\n",
    "\n",
    "You can also explore other biological and ML topics like:\n",
    "- Principal Component Analysis (PCA) for dimensionality reduction\n",
    "- Logistic Regression for binary classification\n",
    "- Classifications with other observations (i.e. iris flowers, fish, disease data)"
   ]
  },
  {
   "cell_type": "markdown",
   "id": "d12a39f9",
   "metadata": {},
   "source": []
  }
 ],
 "metadata": {
  "kernelspec": {
   "display_name": "base",
   "language": "python",
   "name": "python3"
  },
  "language_info": {
   "codemirror_mode": {
    "name": "ipython",
    "version": 3
   },
   "file_extension": ".py",
   "mimetype": "text/x-python",
   "name": "python",
   "nbconvert_exporter": "python",
   "pygments_lexer": "ipython3",
   "version": "3.12.3"
  }
 },
 "nbformat": 4,
 "nbformat_minor": 5
}
